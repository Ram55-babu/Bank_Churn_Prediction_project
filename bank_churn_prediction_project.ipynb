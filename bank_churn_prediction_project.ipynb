{
 "cells": [
  {
   "cell_type": "code",
   "execution_count": 1,
   "id": "9c3d05bf",
   "metadata": {},
   "outputs": [],
   "source": [
    "import numpy as np\n",
    "import pandas as pd\n",
    "import matplotlib.pyplot as plt\n",
    "import seaborn as sns"
   ]
  },
  {
   "cell_type": "code",
   "execution_count": 2,
   "id": "e57d9013",
   "metadata": {},
   "outputs": [],
   "source": [
    "bank_df = pd.read_csv(\"C:\\\\Users\\\\RAM BABU\\\\Downloads\\\\Churn_Modelling (1).csv\")"
   ]
  },
  {
   "cell_type": "code",
   "execution_count": 3,
   "id": "56893773",
   "metadata": {},
   "outputs": [
    {
     "data": {
      "text/html": [
       "<div>\n",
       "<style scoped>\n",
       "    .dataframe tbody tr th:only-of-type {\n",
       "        vertical-align: middle;\n",
       "    }\n",
       "\n",
       "    .dataframe tbody tr th {\n",
       "        vertical-align: top;\n",
       "    }\n",
       "\n",
       "    .dataframe thead th {\n",
       "        text-align: right;\n",
       "    }\n",
       "</style>\n",
       "<table border=\"1\" class=\"dataframe\">\n",
       "  <thead>\n",
       "    <tr style=\"text-align: right;\">\n",
       "      <th></th>\n",
       "      <th>RowNumber</th>\n",
       "      <th>CustomerId</th>\n",
       "      <th>Surname</th>\n",
       "      <th>CreditScore</th>\n",
       "      <th>Geography</th>\n",
       "      <th>Gender</th>\n",
       "      <th>Age</th>\n",
       "      <th>Tenure</th>\n",
       "      <th>Balance</th>\n",
       "      <th>NumOfProducts</th>\n",
       "      <th>HasCrCard</th>\n",
       "      <th>IsActiveMember</th>\n",
       "      <th>EstimatedSalary</th>\n",
       "      <th>Exited</th>\n",
       "    </tr>\n",
       "  </thead>\n",
       "  <tbody>\n",
       "    <tr>\n",
       "      <th>0</th>\n",
       "      <td>1</td>\n",
       "      <td>15634602</td>\n",
       "      <td>Hargrave</td>\n",
       "      <td>619</td>\n",
       "      <td>France</td>\n",
       "      <td>Female</td>\n",
       "      <td>42</td>\n",
       "      <td>2</td>\n",
       "      <td>0.00</td>\n",
       "      <td>1</td>\n",
       "      <td>1</td>\n",
       "      <td>1</td>\n",
       "      <td>101348.88</td>\n",
       "      <td>1</td>\n",
       "    </tr>\n",
       "    <tr>\n",
       "      <th>1</th>\n",
       "      <td>2</td>\n",
       "      <td>15647311</td>\n",
       "      <td>Hill</td>\n",
       "      <td>608</td>\n",
       "      <td>Spain</td>\n",
       "      <td>Female</td>\n",
       "      <td>41</td>\n",
       "      <td>1</td>\n",
       "      <td>83807.86</td>\n",
       "      <td>1</td>\n",
       "      <td>0</td>\n",
       "      <td>1</td>\n",
       "      <td>112542.58</td>\n",
       "      <td>0</td>\n",
       "    </tr>\n",
       "    <tr>\n",
       "      <th>2</th>\n",
       "      <td>3</td>\n",
       "      <td>15619304</td>\n",
       "      <td>Onio</td>\n",
       "      <td>502</td>\n",
       "      <td>France</td>\n",
       "      <td>Female</td>\n",
       "      <td>42</td>\n",
       "      <td>8</td>\n",
       "      <td>159660.80</td>\n",
       "      <td>3</td>\n",
       "      <td>1</td>\n",
       "      <td>0</td>\n",
       "      <td>113931.57</td>\n",
       "      <td>1</td>\n",
       "    </tr>\n",
       "    <tr>\n",
       "      <th>3</th>\n",
       "      <td>4</td>\n",
       "      <td>15701354</td>\n",
       "      <td>Boni</td>\n",
       "      <td>699</td>\n",
       "      <td>France</td>\n",
       "      <td>Female</td>\n",
       "      <td>39</td>\n",
       "      <td>1</td>\n",
       "      <td>0.00</td>\n",
       "      <td>2</td>\n",
       "      <td>0</td>\n",
       "      <td>0</td>\n",
       "      <td>93826.63</td>\n",
       "      <td>0</td>\n",
       "    </tr>\n",
       "    <tr>\n",
       "      <th>4</th>\n",
       "      <td>5</td>\n",
       "      <td>15737888</td>\n",
       "      <td>Mitchell</td>\n",
       "      <td>850</td>\n",
       "      <td>Spain</td>\n",
       "      <td>Female</td>\n",
       "      <td>43</td>\n",
       "      <td>2</td>\n",
       "      <td>125510.82</td>\n",
       "      <td>1</td>\n",
       "      <td>1</td>\n",
       "      <td>1</td>\n",
       "      <td>79084.10</td>\n",
       "      <td>0</td>\n",
       "    </tr>\n",
       "  </tbody>\n",
       "</table>\n",
       "</div>"
      ],
      "text/plain": [
       "   RowNumber  CustomerId   Surname  CreditScore Geography  Gender  Age  \\\n",
       "0          1    15634602  Hargrave          619    France  Female   42   \n",
       "1          2    15647311      Hill          608     Spain  Female   41   \n",
       "2          3    15619304      Onio          502    France  Female   42   \n",
       "3          4    15701354      Boni          699    France  Female   39   \n",
       "4          5    15737888  Mitchell          850     Spain  Female   43   \n",
       "\n",
       "   Tenure    Balance  NumOfProducts  HasCrCard  IsActiveMember  \\\n",
       "0       2       0.00              1          1               1   \n",
       "1       1   83807.86              1          0               1   \n",
       "2       8  159660.80              3          1               0   \n",
       "3       1       0.00              2          0               0   \n",
       "4       2  125510.82              1          1               1   \n",
       "\n",
       "   EstimatedSalary  Exited  \n",
       "0        101348.88       1  \n",
       "1        112542.58       0  \n",
       "2        113931.57       1  \n",
       "3         93826.63       0  \n",
       "4         79084.10       0  "
      ]
     },
     "execution_count": 3,
     "metadata": {},
     "output_type": "execute_result"
    }
   ],
   "source": [
    "bank_df.head()"
   ]
  },
  {
   "cell_type": "code",
   "execution_count": 4,
   "id": "6bf3d0fa",
   "metadata": {},
   "outputs": [
    {
     "data": {
      "text/plain": [
       "(10000, 14)"
      ]
     },
     "execution_count": 4,
     "metadata": {},
     "output_type": "execute_result"
    }
   ],
   "source": [
    "bank_df.shape"
   ]
  },
  {
   "cell_type": "code",
   "execution_count": 5,
   "id": "bee59d78",
   "metadata": {},
   "outputs": [
    {
     "data": {
      "text/html": [
       "<div>\n",
       "<style scoped>\n",
       "    .dataframe tbody tr th:only-of-type {\n",
       "        vertical-align: middle;\n",
       "    }\n",
       "\n",
       "    .dataframe tbody tr th {\n",
       "        vertical-align: top;\n",
       "    }\n",
       "\n",
       "    .dataframe thead th {\n",
       "        text-align: right;\n",
       "    }\n",
       "</style>\n",
       "<table border=\"1\" class=\"dataframe\">\n",
       "  <thead>\n",
       "    <tr style=\"text-align: right;\">\n",
       "      <th></th>\n",
       "      <th>RowNumber</th>\n",
       "      <th>CustomerId</th>\n",
       "      <th>CreditScore</th>\n",
       "      <th>Age</th>\n",
       "      <th>Tenure</th>\n",
       "      <th>Balance</th>\n",
       "      <th>NumOfProducts</th>\n",
       "      <th>HasCrCard</th>\n",
       "      <th>IsActiveMember</th>\n",
       "      <th>EstimatedSalary</th>\n",
       "      <th>Exited</th>\n",
       "    </tr>\n",
       "  </thead>\n",
       "  <tbody>\n",
       "    <tr>\n",
       "      <th>count</th>\n",
       "      <td>10000.00000</td>\n",
       "      <td>1.000000e+04</td>\n",
       "      <td>10000.000000</td>\n",
       "      <td>10000.000000</td>\n",
       "      <td>10000.000000</td>\n",
       "      <td>10000.000000</td>\n",
       "      <td>10000.000000</td>\n",
       "      <td>10000.00000</td>\n",
       "      <td>10000.000000</td>\n",
       "      <td>10000.000000</td>\n",
       "      <td>10000.000000</td>\n",
       "    </tr>\n",
       "    <tr>\n",
       "      <th>mean</th>\n",
       "      <td>5000.50000</td>\n",
       "      <td>1.569094e+07</td>\n",
       "      <td>650.528800</td>\n",
       "      <td>38.921800</td>\n",
       "      <td>5.012800</td>\n",
       "      <td>76485.889288</td>\n",
       "      <td>1.530200</td>\n",
       "      <td>0.70550</td>\n",
       "      <td>0.515100</td>\n",
       "      <td>100090.239881</td>\n",
       "      <td>0.203700</td>\n",
       "    </tr>\n",
       "    <tr>\n",
       "      <th>std</th>\n",
       "      <td>2886.89568</td>\n",
       "      <td>7.193619e+04</td>\n",
       "      <td>96.653299</td>\n",
       "      <td>10.487806</td>\n",
       "      <td>2.892174</td>\n",
       "      <td>62397.405202</td>\n",
       "      <td>0.581654</td>\n",
       "      <td>0.45584</td>\n",
       "      <td>0.499797</td>\n",
       "      <td>57510.492818</td>\n",
       "      <td>0.402769</td>\n",
       "    </tr>\n",
       "    <tr>\n",
       "      <th>min</th>\n",
       "      <td>1.00000</td>\n",
       "      <td>1.556570e+07</td>\n",
       "      <td>350.000000</td>\n",
       "      <td>18.000000</td>\n",
       "      <td>0.000000</td>\n",
       "      <td>0.000000</td>\n",
       "      <td>1.000000</td>\n",
       "      <td>0.00000</td>\n",
       "      <td>0.000000</td>\n",
       "      <td>11.580000</td>\n",
       "      <td>0.000000</td>\n",
       "    </tr>\n",
       "    <tr>\n",
       "      <th>25%</th>\n",
       "      <td>2500.75000</td>\n",
       "      <td>1.562853e+07</td>\n",
       "      <td>584.000000</td>\n",
       "      <td>32.000000</td>\n",
       "      <td>3.000000</td>\n",
       "      <td>0.000000</td>\n",
       "      <td>1.000000</td>\n",
       "      <td>0.00000</td>\n",
       "      <td>0.000000</td>\n",
       "      <td>51002.110000</td>\n",
       "      <td>0.000000</td>\n",
       "    </tr>\n",
       "    <tr>\n",
       "      <th>50%</th>\n",
       "      <td>5000.50000</td>\n",
       "      <td>1.569074e+07</td>\n",
       "      <td>652.000000</td>\n",
       "      <td>37.000000</td>\n",
       "      <td>5.000000</td>\n",
       "      <td>97198.540000</td>\n",
       "      <td>1.000000</td>\n",
       "      <td>1.00000</td>\n",
       "      <td>1.000000</td>\n",
       "      <td>100193.915000</td>\n",
       "      <td>0.000000</td>\n",
       "    </tr>\n",
       "    <tr>\n",
       "      <th>75%</th>\n",
       "      <td>7500.25000</td>\n",
       "      <td>1.575323e+07</td>\n",
       "      <td>718.000000</td>\n",
       "      <td>44.000000</td>\n",
       "      <td>7.000000</td>\n",
       "      <td>127644.240000</td>\n",
       "      <td>2.000000</td>\n",
       "      <td>1.00000</td>\n",
       "      <td>1.000000</td>\n",
       "      <td>149388.247500</td>\n",
       "      <td>0.000000</td>\n",
       "    </tr>\n",
       "    <tr>\n",
       "      <th>max</th>\n",
       "      <td>10000.00000</td>\n",
       "      <td>1.581569e+07</td>\n",
       "      <td>850.000000</td>\n",
       "      <td>92.000000</td>\n",
       "      <td>10.000000</td>\n",
       "      <td>250898.090000</td>\n",
       "      <td>4.000000</td>\n",
       "      <td>1.00000</td>\n",
       "      <td>1.000000</td>\n",
       "      <td>199992.480000</td>\n",
       "      <td>1.000000</td>\n",
       "    </tr>\n",
       "  </tbody>\n",
       "</table>\n",
       "</div>"
      ],
      "text/plain": [
       "         RowNumber    CustomerId   CreditScore           Age        Tenure  \\\n",
       "count  10000.00000  1.000000e+04  10000.000000  10000.000000  10000.000000   \n",
       "mean    5000.50000  1.569094e+07    650.528800     38.921800      5.012800   \n",
       "std     2886.89568  7.193619e+04     96.653299     10.487806      2.892174   \n",
       "min        1.00000  1.556570e+07    350.000000     18.000000      0.000000   \n",
       "25%     2500.75000  1.562853e+07    584.000000     32.000000      3.000000   \n",
       "50%     5000.50000  1.569074e+07    652.000000     37.000000      5.000000   \n",
       "75%     7500.25000  1.575323e+07    718.000000     44.000000      7.000000   \n",
       "max    10000.00000  1.581569e+07    850.000000     92.000000     10.000000   \n",
       "\n",
       "             Balance  NumOfProducts    HasCrCard  IsActiveMember  \\\n",
       "count   10000.000000   10000.000000  10000.00000    10000.000000   \n",
       "mean    76485.889288       1.530200      0.70550        0.515100   \n",
       "std     62397.405202       0.581654      0.45584        0.499797   \n",
       "min         0.000000       1.000000      0.00000        0.000000   \n",
       "25%         0.000000       1.000000      0.00000        0.000000   \n",
       "50%     97198.540000       1.000000      1.00000        1.000000   \n",
       "75%    127644.240000       2.000000      1.00000        1.000000   \n",
       "max    250898.090000       4.000000      1.00000        1.000000   \n",
       "\n",
       "       EstimatedSalary        Exited  \n",
       "count     10000.000000  10000.000000  \n",
       "mean     100090.239881      0.203700  \n",
       "std       57510.492818      0.402769  \n",
       "min          11.580000      0.000000  \n",
       "25%       51002.110000      0.000000  \n",
       "50%      100193.915000      0.000000  \n",
       "75%      149388.247500      0.000000  \n",
       "max      199992.480000      1.000000  "
      ]
     },
     "execution_count": 5,
     "metadata": {},
     "output_type": "execute_result"
    }
   ],
   "source": [
    "bank_df.describe()"
   ]
  },
  {
   "cell_type": "code",
   "execution_count": 6,
   "id": "a90977ec",
   "metadata": {},
   "outputs": [
    {
     "data": {
      "text/plain": [
       "RowNumber          0\n",
       "CustomerId         0\n",
       "Surname            0\n",
       "CreditScore        0\n",
       "Geography          0\n",
       "Gender             0\n",
       "Age                0\n",
       "Tenure             0\n",
       "Balance            0\n",
       "NumOfProducts      0\n",
       "HasCrCard          0\n",
       "IsActiveMember     0\n",
       "EstimatedSalary    0\n",
       "Exited             0\n",
       "dtype: int64"
      ]
     },
     "execution_count": 6,
     "metadata": {},
     "output_type": "execute_result"
    }
   ],
   "source": [
    "bank_df.isnull().sum()"
   ]
  },
  {
   "cell_type": "code",
   "execution_count": 7,
   "id": "3439a76a",
   "metadata": {},
   "outputs": [
    {
     "data": {
      "text/plain": [
       "False"
      ]
     },
     "execution_count": 7,
     "metadata": {},
     "output_type": "execute_result"
    }
   ],
   "source": [
    "bank_df.isnull().values.any()"
   ]
  },
  {
   "cell_type": "code",
   "execution_count": 8,
   "id": "ef0c17b7",
   "metadata": {},
   "outputs": [],
   "source": [
    "bank_df.drop(columns = [\"RowNumber\", \"CustomerId\", \"Surname\"], inplace = True)"
   ]
  },
  {
   "cell_type": "code",
   "execution_count": 9,
   "id": "5ef47552",
   "metadata": {},
   "outputs": [
    {
     "data": {
      "text/html": [
       "<div>\n",
       "<style scoped>\n",
       "    .dataframe tbody tr th:only-of-type {\n",
       "        vertical-align: middle;\n",
       "    }\n",
       "\n",
       "    .dataframe tbody tr th {\n",
       "        vertical-align: top;\n",
       "    }\n",
       "\n",
       "    .dataframe thead th {\n",
       "        text-align: right;\n",
       "    }\n",
       "</style>\n",
       "<table border=\"1\" class=\"dataframe\">\n",
       "  <thead>\n",
       "    <tr style=\"text-align: right;\">\n",
       "      <th></th>\n",
       "      <th>CreditScore</th>\n",
       "      <th>Geography</th>\n",
       "      <th>Gender</th>\n",
       "      <th>Age</th>\n",
       "      <th>Tenure</th>\n",
       "      <th>Balance</th>\n",
       "      <th>NumOfProducts</th>\n",
       "      <th>HasCrCard</th>\n",
       "      <th>IsActiveMember</th>\n",
       "      <th>EstimatedSalary</th>\n",
       "      <th>Exited</th>\n",
       "    </tr>\n",
       "  </thead>\n",
       "  <tbody>\n",
       "    <tr>\n",
       "      <th>0</th>\n",
       "      <td>619</td>\n",
       "      <td>France</td>\n",
       "      <td>Female</td>\n",
       "      <td>42</td>\n",
       "      <td>2</td>\n",
       "      <td>0.00</td>\n",
       "      <td>1</td>\n",
       "      <td>1</td>\n",
       "      <td>1</td>\n",
       "      <td>101348.88</td>\n",
       "      <td>1</td>\n",
       "    </tr>\n",
       "    <tr>\n",
       "      <th>1</th>\n",
       "      <td>608</td>\n",
       "      <td>Spain</td>\n",
       "      <td>Female</td>\n",
       "      <td>41</td>\n",
       "      <td>1</td>\n",
       "      <td>83807.86</td>\n",
       "      <td>1</td>\n",
       "      <td>0</td>\n",
       "      <td>1</td>\n",
       "      <td>112542.58</td>\n",
       "      <td>0</td>\n",
       "    </tr>\n",
       "    <tr>\n",
       "      <th>2</th>\n",
       "      <td>502</td>\n",
       "      <td>France</td>\n",
       "      <td>Female</td>\n",
       "      <td>42</td>\n",
       "      <td>8</td>\n",
       "      <td>159660.80</td>\n",
       "      <td>3</td>\n",
       "      <td>1</td>\n",
       "      <td>0</td>\n",
       "      <td>113931.57</td>\n",
       "      <td>1</td>\n",
       "    </tr>\n",
       "    <tr>\n",
       "      <th>3</th>\n",
       "      <td>699</td>\n",
       "      <td>France</td>\n",
       "      <td>Female</td>\n",
       "      <td>39</td>\n",
       "      <td>1</td>\n",
       "      <td>0.00</td>\n",
       "      <td>2</td>\n",
       "      <td>0</td>\n",
       "      <td>0</td>\n",
       "      <td>93826.63</td>\n",
       "      <td>0</td>\n",
       "    </tr>\n",
       "    <tr>\n",
       "      <th>4</th>\n",
       "      <td>850</td>\n",
       "      <td>Spain</td>\n",
       "      <td>Female</td>\n",
       "      <td>43</td>\n",
       "      <td>2</td>\n",
       "      <td>125510.82</td>\n",
       "      <td>1</td>\n",
       "      <td>1</td>\n",
       "      <td>1</td>\n",
       "      <td>79084.10</td>\n",
       "      <td>0</td>\n",
       "    </tr>\n",
       "  </tbody>\n",
       "</table>\n",
       "</div>"
      ],
      "text/plain": [
       "   CreditScore Geography  Gender  Age  Tenure    Balance  NumOfProducts  \\\n",
       "0          619    France  Female   42       2       0.00              1   \n",
       "1          608     Spain  Female   41       1   83807.86              1   \n",
       "2          502    France  Female   42       8  159660.80              3   \n",
       "3          699    France  Female   39       1       0.00              2   \n",
       "4          850     Spain  Female   43       2  125510.82              1   \n",
       "\n",
       "   HasCrCard  IsActiveMember  EstimatedSalary  Exited  \n",
       "0          1               1        101348.88       1  \n",
       "1          0               1        112542.58       0  \n",
       "2          1               0        113931.57       1  \n",
       "3          0               0         93826.63       0  \n",
       "4          1               1         79084.10       0  "
      ]
     },
     "execution_count": 9,
     "metadata": {},
     "output_type": "execute_result"
    }
   ],
   "source": [
    "bank_df.head()"
   ]
  },
  {
   "cell_type": "code",
   "execution_count": 10,
   "id": "5a14a37a",
   "metadata": {},
   "outputs": [
    {
     "data": {
      "text/plain": [
       "array(['Female', 'Male'], dtype=object)"
      ]
     },
     "execution_count": 10,
     "metadata": {},
     "output_type": "execute_result"
    }
   ],
   "source": [
    "bank_df.Gender.unique()"
   ]
  },
  {
   "cell_type": "code",
   "execution_count": 11,
   "id": "84743daf",
   "metadata": {},
   "outputs": [],
   "source": [
    "bank_df.replace({\"Male\" : 0, \"Female\":1}, inplace = True)"
   ]
  },
  {
   "cell_type": "code",
   "execution_count": 12,
   "id": "3b5fc6ef",
   "metadata": {},
   "outputs": [
    {
     "data": {
      "text/html": [
       "<div>\n",
       "<style scoped>\n",
       "    .dataframe tbody tr th:only-of-type {\n",
       "        vertical-align: middle;\n",
       "    }\n",
       "\n",
       "    .dataframe tbody tr th {\n",
       "        vertical-align: top;\n",
       "    }\n",
       "\n",
       "    .dataframe thead th {\n",
       "        text-align: right;\n",
       "    }\n",
       "</style>\n",
       "<table border=\"1\" class=\"dataframe\">\n",
       "  <thead>\n",
       "    <tr style=\"text-align: right;\">\n",
       "      <th></th>\n",
       "      <th>CreditScore</th>\n",
       "      <th>Geography</th>\n",
       "      <th>Gender</th>\n",
       "      <th>Age</th>\n",
       "      <th>Tenure</th>\n",
       "      <th>Balance</th>\n",
       "      <th>NumOfProducts</th>\n",
       "      <th>HasCrCard</th>\n",
       "      <th>IsActiveMember</th>\n",
       "      <th>EstimatedSalary</th>\n",
       "      <th>Exited</th>\n",
       "    </tr>\n",
       "  </thead>\n",
       "  <tbody>\n",
       "    <tr>\n",
       "      <th>0</th>\n",
       "      <td>619</td>\n",
       "      <td>France</td>\n",
       "      <td>1</td>\n",
       "      <td>42</td>\n",
       "      <td>2</td>\n",
       "      <td>0.00</td>\n",
       "      <td>1</td>\n",
       "      <td>1</td>\n",
       "      <td>1</td>\n",
       "      <td>101348.88</td>\n",
       "      <td>1</td>\n",
       "    </tr>\n",
       "    <tr>\n",
       "      <th>1</th>\n",
       "      <td>608</td>\n",
       "      <td>Spain</td>\n",
       "      <td>1</td>\n",
       "      <td>41</td>\n",
       "      <td>1</td>\n",
       "      <td>83807.86</td>\n",
       "      <td>1</td>\n",
       "      <td>0</td>\n",
       "      <td>1</td>\n",
       "      <td>112542.58</td>\n",
       "      <td>0</td>\n",
       "    </tr>\n",
       "    <tr>\n",
       "      <th>2</th>\n",
       "      <td>502</td>\n",
       "      <td>France</td>\n",
       "      <td>1</td>\n",
       "      <td>42</td>\n",
       "      <td>8</td>\n",
       "      <td>159660.80</td>\n",
       "      <td>3</td>\n",
       "      <td>1</td>\n",
       "      <td>0</td>\n",
       "      <td>113931.57</td>\n",
       "      <td>1</td>\n",
       "    </tr>\n",
       "    <tr>\n",
       "      <th>3</th>\n",
       "      <td>699</td>\n",
       "      <td>France</td>\n",
       "      <td>1</td>\n",
       "      <td>39</td>\n",
       "      <td>1</td>\n",
       "      <td>0.00</td>\n",
       "      <td>2</td>\n",
       "      <td>0</td>\n",
       "      <td>0</td>\n",
       "      <td>93826.63</td>\n",
       "      <td>0</td>\n",
       "    </tr>\n",
       "    <tr>\n",
       "      <th>4</th>\n",
       "      <td>850</td>\n",
       "      <td>Spain</td>\n",
       "      <td>1</td>\n",
       "      <td>43</td>\n",
       "      <td>2</td>\n",
       "      <td>125510.82</td>\n",
       "      <td>1</td>\n",
       "      <td>1</td>\n",
       "      <td>1</td>\n",
       "      <td>79084.10</td>\n",
       "      <td>0</td>\n",
       "    </tr>\n",
       "  </tbody>\n",
       "</table>\n",
       "</div>"
      ],
      "text/plain": [
       "   CreditScore Geography  Gender  Age  Tenure    Balance  NumOfProducts  \\\n",
       "0          619    France       1   42       2       0.00              1   \n",
       "1          608     Spain       1   41       1   83807.86              1   \n",
       "2          502    France       1   42       8  159660.80              3   \n",
       "3          699    France       1   39       1       0.00              2   \n",
       "4          850     Spain       1   43       2  125510.82              1   \n",
       "\n",
       "   HasCrCard  IsActiveMember  EstimatedSalary  Exited  \n",
       "0          1               1        101348.88       1  \n",
       "1          0               1        112542.58       0  \n",
       "2          1               0        113931.57       1  \n",
       "3          0               0         93826.63       0  \n",
       "4          1               1         79084.10       0  "
      ]
     },
     "execution_count": 12,
     "metadata": {},
     "output_type": "execute_result"
    }
   ],
   "source": [
    "bank_df.head()"
   ]
  },
  {
   "cell_type": "code",
   "execution_count": 13,
   "id": "1555f381",
   "metadata": {},
   "outputs": [
    {
     "data": {
      "text/plain": [
       "array(['France', 'Spain', 'Germany'], dtype=object)"
      ]
     },
     "execution_count": 13,
     "metadata": {},
     "output_type": "execute_result"
    }
   ],
   "source": [
    "bank_df.Geography.unique()"
   ]
  },
  {
   "cell_type": "code",
   "execution_count": 14,
   "id": "b9d2fc44",
   "metadata": {},
   "outputs": [],
   "source": [
    "bank_df = pd.get_dummies(data= bank_df, columns = [\"Geography\"])"
   ]
  },
  {
   "cell_type": "code",
   "execution_count": 15,
   "id": "aa112c4c",
   "metadata": {},
   "outputs": [],
   "source": [
    "bank_df= bank_df.astype(int)"
   ]
  },
  {
   "cell_type": "code",
   "execution_count": 16,
   "id": "d35b7650",
   "metadata": {},
   "outputs": [
    {
     "data": {
      "text/plain": [
       "CreditScore          int32\n",
       "Gender               int32\n",
       "Age                  int32\n",
       "Tenure               int32\n",
       "Balance              int32\n",
       "NumOfProducts        int32\n",
       "HasCrCard            int32\n",
       "IsActiveMember       int32\n",
       "EstimatedSalary      int32\n",
       "Exited               int32\n",
       "Geography_France     int32\n",
       "Geography_Germany    int32\n",
       "Geography_Spain      int32\n",
       "dtype: object"
      ]
     },
     "execution_count": 16,
     "metadata": {},
     "output_type": "execute_result"
    }
   ],
   "source": [
    "bank_df.dtypes"
   ]
  },
  {
   "cell_type": "code",
   "execution_count": 17,
   "id": "ecceeaac",
   "metadata": {},
   "outputs": [
    {
     "name": "stdout",
     "output_type": "stream",
     "text": [
      "Index(['CreditScore', 'Gender', 'Age', 'Tenure', 'Balance', 'NumOfProducts',\n",
      "       'HasCrCard', 'IsActiveMember', 'EstimatedSalary', 'Exited',\n",
      "       'Geography_France', 'Geography_Germany', 'Geography_Spain'],\n",
      "      dtype='object')\n"
     ]
    }
   ],
   "source": [
    "print(bank_df.columns)"
   ]
  },
  {
   "cell_type": "markdown",
   "id": "6efeb620",
   "metadata": {},
   "source": [
    "# train and test split"
   ]
  },
  {
   "cell_type": "code",
   "execution_count": 18,
   "id": "014b9576",
   "metadata": {},
   "outputs": [],
   "source": [
    "X = bank_df.drop(\"Exited\", axis = \"columns\")\n",
    "y = bank_df[\"Exited\"]"
   ]
  },
  {
   "cell_type": "code",
   "execution_count": 19,
   "id": "c812a347",
   "metadata": {},
   "outputs": [
    {
     "data": {
      "text/plain": [
       "(10000, 12)"
      ]
     },
     "execution_count": 19,
     "metadata": {},
     "output_type": "execute_result"
    }
   ],
   "source": [
    "X.shape"
   ]
  },
  {
   "cell_type": "code",
   "execution_count": 20,
   "id": "5c55b2a5",
   "metadata": {},
   "outputs": [
    {
     "data": {
      "text/plain": [
       "Index(['CreditScore', 'Gender', 'Age', 'Tenure', 'Balance', 'NumOfProducts',\n",
       "       'HasCrCard', 'IsActiveMember', 'EstimatedSalary', 'Geography_France',\n",
       "       'Geography_Germany', 'Geography_Spain'],\n",
       "      dtype='object')"
      ]
     },
     "execution_count": 20,
     "metadata": {},
     "output_type": "execute_result"
    }
   ],
   "source": [
    "X.columns"
   ]
  },
  {
   "cell_type": "code",
   "execution_count": 21,
   "id": "8cfe726a",
   "metadata": {},
   "outputs": [
    {
     "name": "stdout",
     "output_type": "stream",
     "text": [
      "Defaulting to user installation because normal site-packages is not writeable\n",
      "Requirement already satisfied: imbalanced-learn in c:\\users\\ram babu\\appdata\\roaming\\python\\python39\\site-packages (0.12.3)\n",
      "Requirement already satisfied: scipy>=1.5.0 in c:\\programdata\\anaconda3\\lib\\site-packages (from imbalanced-learn) (1.9.1)\n",
      "Requirement already satisfied: joblib>=1.1.1 in c:\\users\\ram babu\\appdata\\roaming\\python\\python39\\site-packages (from imbalanced-learn) (1.4.2)\n",
      "Requirement already satisfied: threadpoolctl>=2.0.0 in c:\\users\\ram babu\\appdata\\roaming\\python\\python39\\site-packages (from imbalanced-learn) (3.2.0)\n",
      "Requirement already satisfied: scikit-learn>=1.0.2 in c:\\programdata\\anaconda3\\lib\\site-packages (from imbalanced-learn) (1.0.2)\n",
      "Requirement already satisfied: numpy>=1.17.3 in c:\\users\\ram babu\\appdata\\roaming\\python\\python39\\site-packages (from imbalanced-learn) (1.24.4)\n"
     ]
    }
   ],
   "source": [
    "!pip install imbalanced-learn"
   ]
  },
  {
   "cell_type": "markdown",
   "id": "991606a2",
   "metadata": {},
   "source": [
    "### SMOTE"
   ]
  },
  {
   "cell_type": "code",
   "execution_count": 22,
   "id": "71bd50a9",
   "metadata": {},
   "outputs": [],
   "source": [
    "#from imblearn.over_sampling import SMOTE\n",
    "#smote = SMOTE(sampling_strategy = \"minority\")\n",
    "#X,y = smote.fit_resample(X,y)"
   ]
  },
  {
   "cell_type": "code",
   "execution_count": 23,
   "id": "988cfe10",
   "metadata": {},
   "outputs": [],
   "source": [
    "#X.shape"
   ]
  },
  {
   "cell_type": "code",
   "execution_count": 24,
   "id": "6855378f",
   "metadata": {},
   "outputs": [],
   "source": [
    "#y.value_counts()"
   ]
  },
  {
   "cell_type": "markdown",
   "id": "3956c141",
   "metadata": {},
   "source": [
    "# Data Normalization"
   ]
  },
  {
   "cell_type": "code",
   "execution_count": 25,
   "id": "f4bf7f0b",
   "metadata": {},
   "outputs": [],
   "source": [
    "from sklearn.preprocessing import MinMaxScaler\n",
    "scaler = MinMaxScaler()\n",
    "X[:] = scaler.fit_transform(X)"
   ]
  },
  {
   "cell_type": "code",
   "execution_count": 26,
   "id": "227208ed",
   "metadata": {},
   "outputs": [
    {
     "data": {
      "text/html": [
       "<div>\n",
       "<style scoped>\n",
       "    .dataframe tbody tr th:only-of-type {\n",
       "        vertical-align: middle;\n",
       "    }\n",
       "\n",
       "    .dataframe tbody tr th {\n",
       "        vertical-align: top;\n",
       "    }\n",
       "\n",
       "    .dataframe thead th {\n",
       "        text-align: right;\n",
       "    }\n",
       "</style>\n",
       "<table border=\"1\" class=\"dataframe\">\n",
       "  <thead>\n",
       "    <tr style=\"text-align: right;\">\n",
       "      <th></th>\n",
       "      <th>CreditScore</th>\n",
       "      <th>Gender</th>\n",
       "      <th>Age</th>\n",
       "      <th>Tenure</th>\n",
       "      <th>Balance</th>\n",
       "      <th>NumOfProducts</th>\n",
       "      <th>HasCrCard</th>\n",
       "      <th>IsActiveMember</th>\n",
       "      <th>EstimatedSalary</th>\n",
       "      <th>Geography_France</th>\n",
       "      <th>Geography_Germany</th>\n",
       "      <th>Geography_Spain</th>\n",
       "    </tr>\n",
       "  </thead>\n",
       "  <tbody>\n",
       "    <tr>\n",
       "      <th>0</th>\n",
       "      <td>0.538</td>\n",
       "      <td>1.0</td>\n",
       "      <td>0.324324</td>\n",
       "      <td>0.2</td>\n",
       "      <td>0.000000</td>\n",
       "      <td>0.000000</td>\n",
       "      <td>1.0</td>\n",
       "      <td>1.0</td>\n",
       "      <td>0.506733</td>\n",
       "      <td>1.0</td>\n",
       "      <td>0.0</td>\n",
       "      <td>0.0</td>\n",
       "    </tr>\n",
       "    <tr>\n",
       "      <th>1</th>\n",
       "      <td>0.516</td>\n",
       "      <td>1.0</td>\n",
       "      <td>0.310811</td>\n",
       "      <td>0.1</td>\n",
       "      <td>0.334028</td>\n",
       "      <td>0.000000</td>\n",
       "      <td>0.0</td>\n",
       "      <td>1.0</td>\n",
       "      <td>0.562708</td>\n",
       "      <td>0.0</td>\n",
       "      <td>0.0</td>\n",
       "      <td>1.0</td>\n",
       "    </tr>\n",
       "    <tr>\n",
       "      <th>2</th>\n",
       "      <td>0.304</td>\n",
       "      <td>1.0</td>\n",
       "      <td>0.324324</td>\n",
       "      <td>0.8</td>\n",
       "      <td>0.636354</td>\n",
       "      <td>0.666667</td>\n",
       "      <td>1.0</td>\n",
       "      <td>0.0</td>\n",
       "      <td>0.569654</td>\n",
       "      <td>1.0</td>\n",
       "      <td>0.0</td>\n",
       "      <td>0.0</td>\n",
       "    </tr>\n",
       "    <tr>\n",
       "      <th>3</th>\n",
       "      <td>0.698</td>\n",
       "      <td>1.0</td>\n",
       "      <td>0.283784</td>\n",
       "      <td>0.1</td>\n",
       "      <td>0.000000</td>\n",
       "      <td>0.333333</td>\n",
       "      <td>0.0</td>\n",
       "      <td>0.0</td>\n",
       "      <td>0.469120</td>\n",
       "      <td>1.0</td>\n",
       "      <td>0.0</td>\n",
       "      <td>0.0</td>\n",
       "    </tr>\n",
       "    <tr>\n",
       "      <th>4</th>\n",
       "      <td>1.000</td>\n",
       "      <td>1.0</td>\n",
       "      <td>0.337838</td>\n",
       "      <td>0.2</td>\n",
       "      <td>0.500243</td>\n",
       "      <td>0.000000</td>\n",
       "      <td>1.0</td>\n",
       "      <td>1.0</td>\n",
       "      <td>0.395403</td>\n",
       "      <td>0.0</td>\n",
       "      <td>0.0</td>\n",
       "      <td>1.0</td>\n",
       "    </tr>\n",
       "  </tbody>\n",
       "</table>\n",
       "</div>"
      ],
      "text/plain": [
       "   CreditScore  Gender       Age  Tenure   Balance  NumOfProducts  HasCrCard  \\\n",
       "0        0.538     1.0  0.324324     0.2  0.000000       0.000000        1.0   \n",
       "1        0.516     1.0  0.310811     0.1  0.334028       0.000000        0.0   \n",
       "2        0.304     1.0  0.324324     0.8  0.636354       0.666667        1.0   \n",
       "3        0.698     1.0  0.283784     0.1  0.000000       0.333333        0.0   \n",
       "4        1.000     1.0  0.337838     0.2  0.500243       0.000000        1.0   \n",
       "\n",
       "   IsActiveMember  EstimatedSalary  Geography_France  Geography_Germany  \\\n",
       "0             1.0         0.506733               1.0                0.0   \n",
       "1             1.0         0.562708               0.0                0.0   \n",
       "2             0.0         0.569654               1.0                0.0   \n",
       "3             0.0         0.469120               1.0                0.0   \n",
       "4             1.0         0.395403               0.0                0.0   \n",
       "\n",
       "   Geography_Spain  \n",
       "0              0.0  \n",
       "1              1.0  \n",
       "2              0.0  \n",
       "3              0.0  \n",
       "4              1.0  "
      ]
     },
     "execution_count": 26,
     "metadata": {},
     "output_type": "execute_result"
    }
   ],
   "source": [
    "X.head()"
   ]
  },
  {
   "cell_type": "code",
   "execution_count": 27,
   "id": "6f483650",
   "metadata": {},
   "outputs": [],
   "source": [
    "from sklearn.model_selection import train_test_split\n",
    "X_train,X_test,y_train,y_test = train_test_split(X,y,test_size = 0.2,random_state= 42)"
   ]
  },
  {
   "cell_type": "code",
   "execution_count": 28,
   "id": "76bd1534",
   "metadata": {},
   "outputs": [
    {
     "data": {
      "text/plain": [
       "(8000, 12)"
      ]
     },
     "execution_count": 28,
     "metadata": {},
     "output_type": "execute_result"
    }
   ],
   "source": [
    "X_train.shape"
   ]
  },
  {
   "cell_type": "code",
   "execution_count": 29,
   "id": "8853a21e",
   "metadata": {},
   "outputs": [
    {
     "data": {
      "text/plain": [
       "(2000, 12)"
      ]
     },
     "execution_count": 29,
     "metadata": {},
     "output_type": "execute_result"
    }
   ],
   "source": [
    "X_test.shape"
   ]
  },
  {
   "cell_type": "markdown",
   "id": "b9c687da",
   "metadata": {},
   "source": [
    "# Building the model"
   ]
  },
  {
   "cell_type": "code",
   "execution_count": 30,
   "id": "c195949e",
   "metadata": {},
   "outputs": [
    {
     "name": "stdout",
     "output_type": "stream",
     "text": [
      "Epoch 1/100\n",
      "128/128 [==============================] - 5s 11ms/step - loss: 0.8126 - accuracy: 0.5813 - val_loss: 0.4971 - val_accuracy: 0.7987\n",
      "Epoch 2/100\n",
      "128/128 [==============================] - 1s 7ms/step - loss: 0.6519 - accuracy: 0.6781 - val_loss: 0.4850 - val_accuracy: 0.7987\n",
      "Epoch 3/100\n",
      "128/128 [==============================] - 1s 7ms/step - loss: 0.5759 - accuracy: 0.7289 - val_loss: 0.4763 - val_accuracy: 0.7987\n",
      "Epoch 4/100\n",
      "128/128 [==============================] - 1s 6ms/step - loss: 0.5376 - accuracy: 0.7631 - val_loss: 0.4646 - val_accuracy: 0.7987\n",
      "Epoch 5/100\n",
      "128/128 [==============================] - 1s 6ms/step - loss: 0.5182 - accuracy: 0.7703 - val_loss: 0.4576 - val_accuracy: 0.7994\n",
      "Epoch 6/100\n",
      "128/128 [==============================] - 1s 7ms/step - loss: 0.5021 - accuracy: 0.7833 - val_loss: 0.4479 - val_accuracy: 0.8019\n",
      "Epoch 7/100\n",
      "128/128 [==============================] - 1s 6ms/step - loss: 0.5029 - accuracy: 0.7873 - val_loss: 0.4447 - val_accuracy: 0.8019\n",
      "Epoch 8/100\n",
      "128/128 [==============================] - 1s 6ms/step - loss: 0.4857 - accuracy: 0.7923 - val_loss: 0.4393 - val_accuracy: 0.8037\n",
      "Epoch 9/100\n",
      "128/128 [==============================] - 1s 7ms/step - loss: 0.4839 - accuracy: 0.7911 - val_loss: 0.4344 - val_accuracy: 0.8062\n",
      "Epoch 10/100\n",
      "128/128 [==============================] - 1s 6ms/step - loss: 0.4793 - accuracy: 0.7912 - val_loss: 0.4295 - val_accuracy: 0.8087\n",
      "Epoch 11/100\n",
      "128/128 [==============================] - 1s 7ms/step - loss: 0.4673 - accuracy: 0.7952 - val_loss: 0.4266 - val_accuracy: 0.8087\n",
      "Epoch 12/100\n",
      "128/128 [==============================] - 1s 6ms/step - loss: 0.4671 - accuracy: 0.7928 - val_loss: 0.4218 - val_accuracy: 0.8131\n",
      "Epoch 13/100\n",
      "128/128 [==============================] - 1s 6ms/step - loss: 0.4610 - accuracy: 0.8009 - val_loss: 0.4181 - val_accuracy: 0.8169\n",
      "Epoch 14/100\n",
      "128/128 [==============================] - 1s 7ms/step - loss: 0.4573 - accuracy: 0.7964 - val_loss: 0.4155 - val_accuracy: 0.8181\n",
      "Epoch 15/100\n",
      "128/128 [==============================] - 1s 6ms/step - loss: 0.4482 - accuracy: 0.8012 - val_loss: 0.4078 - val_accuracy: 0.8250\n",
      "Epoch 16/100\n",
      "128/128 [==============================] - 1s 7ms/step - loss: 0.4500 - accuracy: 0.8042 - val_loss: 0.4065 - val_accuracy: 0.8200\n",
      "Epoch 17/100\n",
      "128/128 [==============================] - 1s 6ms/step - loss: 0.4451 - accuracy: 0.8056 - val_loss: 0.4036 - val_accuracy: 0.8206\n",
      "Epoch 18/100\n",
      "128/128 [==============================] - 1s 7ms/step - loss: 0.4347 - accuracy: 0.8106 - val_loss: 0.3921 - val_accuracy: 0.8344\n",
      "Epoch 19/100\n",
      "128/128 [==============================] - 1s 7ms/step - loss: 0.4337 - accuracy: 0.8106 - val_loss: 0.3850 - val_accuracy: 0.8338\n",
      "Epoch 20/100\n",
      "128/128 [==============================] - 1s 7ms/step - loss: 0.4258 - accuracy: 0.8138 - val_loss: 0.3836 - val_accuracy: 0.8363\n",
      "Epoch 21/100\n",
      "128/128 [==============================] - 1s 7ms/step - loss: 0.4238 - accuracy: 0.8156 - val_loss: 0.3823 - val_accuracy: 0.8363\n",
      "Epoch 22/100\n",
      "128/128 [==============================] - 1s 6ms/step - loss: 0.4200 - accuracy: 0.8186 - val_loss: 0.3717 - val_accuracy: 0.8506\n",
      "Epoch 23/100\n",
      "128/128 [==============================] - 1s 6ms/step - loss: 0.4166 - accuracy: 0.8209 - val_loss: 0.3766 - val_accuracy: 0.8444\n",
      "Epoch 24/100\n",
      "128/128 [==============================] - 1s 7ms/step - loss: 0.4209 - accuracy: 0.8195 - val_loss: 0.3680 - val_accuracy: 0.8475\n",
      "Epoch 25/100\n",
      "128/128 [==============================] - 1s 7ms/step - loss: 0.4142 - accuracy: 0.8205 - val_loss: 0.3694 - val_accuracy: 0.8494\n",
      "Epoch 26/100\n",
      "128/128 [==============================] - 1s 7ms/step - loss: 0.4132 - accuracy: 0.8234 - val_loss: 0.3669 - val_accuracy: 0.8500\n",
      "Epoch 27/100\n",
      "128/128 [==============================] - 1s 7ms/step - loss: 0.4068 - accuracy: 0.8219 - val_loss: 0.3626 - val_accuracy: 0.8544\n",
      "Epoch 28/100\n",
      "128/128 [==============================] - 1s 7ms/step - loss: 0.4127 - accuracy: 0.8233 - val_loss: 0.3640 - val_accuracy: 0.8531\n",
      "Epoch 29/100\n",
      "128/128 [==============================] - 1s 7ms/step - loss: 0.4049 - accuracy: 0.8211 - val_loss: 0.3634 - val_accuracy: 0.8575\n",
      "Epoch 30/100\n",
      "128/128 [==============================] - 1s 7ms/step - loss: 0.4094 - accuracy: 0.8216 - val_loss: 0.3645 - val_accuracy: 0.8550\n",
      "Epoch 31/100\n",
      "128/128 [==============================] - 1s 7ms/step - loss: 0.4062 - accuracy: 0.8248 - val_loss: 0.3644 - val_accuracy: 0.8544\n",
      "Epoch 32/100\n",
      "128/128 [==============================] - 1s 7ms/step - loss: 0.4011 - accuracy: 0.8284 - val_loss: 0.3629 - val_accuracy: 0.8556\n",
      "Epoch 33/100\n",
      "128/128 [==============================] - 1s 7ms/step - loss: 0.4031 - accuracy: 0.8297 - val_loss: 0.3606 - val_accuracy: 0.8525\n",
      "Epoch 34/100\n",
      "128/128 [==============================] - 1s 7ms/step - loss: 0.3976 - accuracy: 0.8291 - val_loss: 0.3634 - val_accuracy: 0.8537\n",
      "Epoch 35/100\n",
      "128/128 [==============================] - 1s 7ms/step - loss: 0.3923 - accuracy: 0.8320 - val_loss: 0.3612 - val_accuracy: 0.8531\n",
      "Epoch 36/100\n",
      "128/128 [==============================] - 1s 7ms/step - loss: 0.3986 - accuracy: 0.8305 - val_loss: 0.3649 - val_accuracy: 0.8544\n",
      "Epoch 37/100\n",
      "128/128 [==============================] - 1s 7ms/step - loss: 0.3923 - accuracy: 0.8305 - val_loss: 0.3593 - val_accuracy: 0.8500\n",
      "Epoch 38/100\n",
      "128/128 [==============================] - 1s 7ms/step - loss: 0.3967 - accuracy: 0.8320 - val_loss: 0.3636 - val_accuracy: 0.8512\n",
      "Epoch 39/100\n",
      "128/128 [==============================] - 1s 6ms/step - loss: 0.3964 - accuracy: 0.8303 - val_loss: 0.3593 - val_accuracy: 0.8531\n",
      "Epoch 40/100\n",
      "128/128 [==============================] - 1s 7ms/step - loss: 0.3940 - accuracy: 0.8302 - val_loss: 0.3605 - val_accuracy: 0.8544\n",
      "Epoch 41/100\n",
      "128/128 [==============================] - 1s 7ms/step - loss: 0.3974 - accuracy: 0.8277 - val_loss: 0.3612 - val_accuracy: 0.8512\n",
      "Epoch 42/100\n",
      "128/128 [==============================] - 1s 7ms/step - loss: 0.3885 - accuracy: 0.8364 - val_loss: 0.3596 - val_accuracy: 0.8544\n",
      "Epoch 43/100\n",
      "128/128 [==============================] - 1s 7ms/step - loss: 0.3898 - accuracy: 0.8345 - val_loss: 0.3585 - val_accuracy: 0.8537\n",
      "Epoch 44/100\n",
      "128/128 [==============================] - 1s 7ms/step - loss: 0.3894 - accuracy: 0.8378 - val_loss: 0.3588 - val_accuracy: 0.8506\n",
      "Epoch 45/100\n",
      "128/128 [==============================] - 1s 7ms/step - loss: 0.3984 - accuracy: 0.8291 - val_loss: 0.3613 - val_accuracy: 0.8512\n",
      "Epoch 46/100\n",
      "128/128 [==============================] - 1s 7ms/step - loss: 0.3906 - accuracy: 0.8306 - val_loss: 0.3607 - val_accuracy: 0.8537\n",
      "Epoch 47/100\n",
      "128/128 [==============================] - 1s 7ms/step - loss: 0.3845 - accuracy: 0.8359 - val_loss: 0.3563 - val_accuracy: 0.8487\n",
      "Epoch 48/100\n",
      "128/128 [==============================] - 1s 7ms/step - loss: 0.3868 - accuracy: 0.8380 - val_loss: 0.3538 - val_accuracy: 0.8537\n",
      "Epoch 49/100\n",
      "128/128 [==============================] - 1s 7ms/step - loss: 0.3860 - accuracy: 0.8377 - val_loss: 0.3552 - val_accuracy: 0.8575\n",
      "Epoch 50/100\n",
      "128/128 [==============================] - 1s 7ms/step - loss: 0.3868 - accuracy: 0.8366 - val_loss: 0.3565 - val_accuracy: 0.8537\n",
      "Epoch 51/100\n",
      "128/128 [==============================] - 1s 6ms/step - loss: 0.3868 - accuracy: 0.8367 - val_loss: 0.3573 - val_accuracy: 0.8550\n",
      "Epoch 52/100\n",
      "128/128 [==============================] - 1s 6ms/step - loss: 0.3837 - accuracy: 0.8384 - val_loss: 0.3565 - val_accuracy: 0.8537\n",
      "Epoch 53/100\n",
      "128/128 [==============================] - 1s 6ms/step - loss: 0.3829 - accuracy: 0.8381 - val_loss: 0.3555 - val_accuracy: 0.8550\n",
      "Epoch 54/100\n",
      "128/128 [==============================] - 1s 7ms/step - loss: 0.3885 - accuracy: 0.8370 - val_loss: 0.3571 - val_accuracy: 0.8494\n",
      "Epoch 55/100\n",
      "128/128 [==============================] - 1s 7ms/step - loss: 0.3839 - accuracy: 0.8370 - val_loss: 0.3579 - val_accuracy: 0.8494\n",
      "Epoch 56/100\n",
      "128/128 [==============================] - 1s 6ms/step - loss: 0.3829 - accuracy: 0.8377 - val_loss: 0.3523 - val_accuracy: 0.8512\n",
      "Epoch 57/100\n",
      "128/128 [==============================] - 1s 7ms/step - loss: 0.3890 - accuracy: 0.8350 - val_loss: 0.3555 - val_accuracy: 0.8525\n"
     ]
    },
    {
     "name": "stdout",
     "output_type": "stream",
     "text": [
      "Epoch 58/100\n",
      "128/128 [==============================] - 1s 7ms/step - loss: 0.3861 - accuracy: 0.8348 - val_loss: 0.3544 - val_accuracy: 0.8525\n",
      "Epoch 59/100\n",
      "128/128 [==============================] - 1s 6ms/step - loss: 0.3845 - accuracy: 0.8386 - val_loss: 0.3556 - val_accuracy: 0.8519\n",
      "Epoch 60/100\n",
      "128/128 [==============================] - 1s 6ms/step - loss: 0.3799 - accuracy: 0.8408 - val_loss: 0.3507 - val_accuracy: 0.8562\n",
      "Epoch 61/100\n",
      "128/128 [==============================] - 1s 7ms/step - loss: 0.3795 - accuracy: 0.8402 - val_loss: 0.3516 - val_accuracy: 0.8556\n",
      "Epoch 62/100\n",
      "128/128 [==============================] - 1s 6ms/step - loss: 0.3774 - accuracy: 0.8420 - val_loss: 0.3553 - val_accuracy: 0.8519\n",
      "Epoch 63/100\n",
      "128/128 [==============================] - 1s 7ms/step - loss: 0.3836 - accuracy: 0.8358 - val_loss: 0.3510 - val_accuracy: 0.8519\n",
      "Epoch 64/100\n",
      "128/128 [==============================] - 1s 6ms/step - loss: 0.3801 - accuracy: 0.8345 - val_loss: 0.3494 - val_accuracy: 0.8562\n",
      "Epoch 65/100\n",
      "128/128 [==============================] - 1s 7ms/step - loss: 0.3803 - accuracy: 0.8388 - val_loss: 0.3499 - val_accuracy: 0.8550\n",
      "Epoch 66/100\n",
      "128/128 [==============================] - 1s 7ms/step - loss: 0.3756 - accuracy: 0.8389 - val_loss: 0.3538 - val_accuracy: 0.8569\n",
      "Epoch 67/100\n",
      "128/128 [==============================] - 1s 7ms/step - loss: 0.3765 - accuracy: 0.8420 - val_loss: 0.3500 - val_accuracy: 0.8562\n",
      "Epoch 68/100\n",
      "128/128 [==============================] - 1s 7ms/step - loss: 0.3795 - accuracy: 0.8419 - val_loss: 0.3514 - val_accuracy: 0.8556\n",
      "Epoch 69/100\n",
      "128/128 [==============================] - 1s 7ms/step - loss: 0.3823 - accuracy: 0.8381 - val_loss: 0.3511 - val_accuracy: 0.8575\n",
      "Epoch 70/100\n",
      "128/128 [==============================] - 1s 7ms/step - loss: 0.3759 - accuracy: 0.8420 - val_loss: 0.3479 - val_accuracy: 0.8581\n",
      "Epoch 71/100\n",
      "128/128 [==============================] - 1s 6ms/step - loss: 0.3761 - accuracy: 0.8459 - val_loss: 0.3483 - val_accuracy: 0.8569\n",
      "Epoch 72/100\n",
      "128/128 [==============================] - 1s 6ms/step - loss: 0.3821 - accuracy: 0.8364 - val_loss: 0.3505 - val_accuracy: 0.8556\n",
      "Epoch 73/100\n",
      "128/128 [==============================] - 1s 7ms/step - loss: 0.3728 - accuracy: 0.8487 - val_loss: 0.3496 - val_accuracy: 0.8569\n",
      "Epoch 74/100\n",
      "128/128 [==============================] - 1s 6ms/step - loss: 0.3728 - accuracy: 0.8486 - val_loss: 0.3484 - val_accuracy: 0.8562\n",
      "Epoch 75/100\n",
      "128/128 [==============================] - 1s 6ms/step - loss: 0.3699 - accuracy: 0.8455 - val_loss: 0.3525 - val_accuracy: 0.8525\n",
      "Epoch 76/100\n",
      "128/128 [==============================] - 1s 7ms/step - loss: 0.3754 - accuracy: 0.8455 - val_loss: 0.3511 - val_accuracy: 0.8562\n",
      "Epoch 77/100\n",
      "128/128 [==============================] - 1s 6ms/step - loss: 0.3707 - accuracy: 0.8455 - val_loss: 0.3478 - val_accuracy: 0.8569\n",
      "Epoch 78/100\n",
      "128/128 [==============================] - 1s 7ms/step - loss: 0.3743 - accuracy: 0.8425 - val_loss: 0.3468 - val_accuracy: 0.8562\n",
      "Epoch 79/100\n",
      "128/128 [==============================] - 1s 6ms/step - loss: 0.3723 - accuracy: 0.8467 - val_loss: 0.3454 - val_accuracy: 0.8587\n",
      "Epoch 80/100\n",
      "128/128 [==============================] - 1s 6ms/step - loss: 0.3710 - accuracy: 0.8420 - val_loss: 0.3453 - val_accuracy: 0.8587\n",
      "Epoch 81/100\n",
      "128/128 [==============================] - 1s 6ms/step - loss: 0.3735 - accuracy: 0.8481 - val_loss: 0.3459 - val_accuracy: 0.8594\n",
      "Epoch 82/100\n",
      "128/128 [==============================] - 1s 6ms/step - loss: 0.3708 - accuracy: 0.8420 - val_loss: 0.3514 - val_accuracy: 0.8562\n",
      "Epoch 83/100\n",
      "128/128 [==============================] - 1s 7ms/step - loss: 0.3739 - accuracy: 0.8502 - val_loss: 0.3478 - val_accuracy: 0.8569\n",
      "Epoch 84/100\n",
      "128/128 [==============================] - 1s 8ms/step - loss: 0.3725 - accuracy: 0.8450 - val_loss: 0.3458 - val_accuracy: 0.8587\n",
      "Epoch 85/100\n",
      "128/128 [==============================] - 1s 7ms/step - loss: 0.3688 - accuracy: 0.8480 - val_loss: 0.3470 - val_accuracy: 0.8562\n",
      "Epoch 86/100\n",
      "128/128 [==============================] - 1s 7ms/step - loss: 0.3754 - accuracy: 0.8487 - val_loss: 0.3482 - val_accuracy: 0.8544\n",
      "Epoch 87/100\n",
      "128/128 [==============================] - 1s 7ms/step - loss: 0.3734 - accuracy: 0.8470 - val_loss: 0.3481 - val_accuracy: 0.8575\n",
      "Epoch 88/100\n",
      "128/128 [==============================] - 1s 7ms/step - loss: 0.3732 - accuracy: 0.8422 - val_loss: 0.3501 - val_accuracy: 0.8537\n",
      "Epoch 89/100\n",
      "128/128 [==============================] - 1s 8ms/step - loss: 0.3779 - accuracy: 0.8402 - val_loss: 0.3485 - val_accuracy: 0.8556\n",
      "Epoch 90/100\n",
      "128/128 [==============================] - 1s 7ms/step - loss: 0.3652 - accuracy: 0.8472 - val_loss: 0.3471 - val_accuracy: 0.8594\n"
     ]
    },
    {
     "data": {
      "text/plain": [
       "<keras.src.callbacks.History at 0x1fa9539ddc0>"
      ]
     },
     "execution_count": 30,
     "metadata": {},
     "output_type": "execute_result"
    }
   ],
   "source": [
    "import tensorflow as tf\n",
    "from tensorflow import keras\n",
    "\n",
    "model = keras.Sequential([\n",
    "    keras.layers.Dense(64, input_shape = (12,), activation = \"relu\"), # hidden layer 1\n",
    "    keras.layers.BatchNormalization(),\n",
    "    keras.layers.Dropout(0.5),\n",
    "    keras.layers.Dense(32,activation = \"relu\"), # hidden layer 2\n",
    "    keras.layers.BatchNormalization(),\n",
    "    keras.layers.Dropout(0.5),\n",
    "    keras.layers.Dense(16,activation = \"relu\"), # hidden layer 3\n",
    "    keras.layers.BatchNormalization(),\n",
    "    keras.layers.Dropout(0.5),\n",
    "    keras.layers.Dense(1, activation = \"sigmoid\")\n",
    "    \n",
    "\n",
    "])\n",
    "\n",
    "lr_schedule = keras.optimizers.schedules.ExponentialDecay(\n",
    "    initial_learning_rate=1e-2,\n",
    "    decay_steps=10000,\n",
    "    decay_rate=0.9)\n",
    "\n",
    "model.compile(optimizer = \"adam\", \n",
    "             loss = \"binary_crossentropy\",\n",
    "             metrics = [\"accuracy\"])\n",
    "\n",
    "early_stopping = keras.callbacks.EarlyStopping(monitor='val_loss', patience=10, restore_best_weights=True)\n",
    "\n",
    "model.fit(X_train,y_train,epochs = 100, batch_size = 50,validation_split=0.2, callbacks=[early_stopping])"
   ]
  },
  {
   "cell_type": "code",
   "execution_count": 31,
   "id": "84360546",
   "metadata": {},
   "outputs": [
    {
     "name": "stdout",
     "output_type": "stream",
     "text": [
      "63/63 [==============================] - 1s 4ms/step - loss: 0.3397 - accuracy: 0.8615\n"
     ]
    },
    {
     "data": {
      "text/plain": [
       "86.15000247955322"
      ]
     },
     "execution_count": 31,
     "metadata": {},
     "output_type": "execute_result"
    }
   ],
   "source": [
    "loss, accuracy = model.evaluate(X_test,y_test)\n",
    "accuracy * 100"
   ]
  },
  {
   "cell_type": "code",
   "execution_count": 32,
   "id": "fc23325f",
   "metadata": {},
   "outputs": [
    {
     "data": {
      "text/plain": [
       "2750    1\n",
       "7487    1\n",
       "5272    1\n",
       "5653    0\n",
       "3999    0\n",
       "Name: Exited, dtype: int32"
      ]
     },
     "execution_count": 32,
     "metadata": {},
     "output_type": "execute_result"
    }
   ],
   "source": [
    "y_test[10:15]"
   ]
  },
  {
   "cell_type": "code",
   "execution_count": 33,
   "id": "bd70f0de",
   "metadata": {},
   "outputs": [
    {
     "name": "stdout",
     "output_type": "stream",
     "text": [
      "63/63 [==============================] - 1s 4ms/step\n"
     ]
    },
    {
     "data": {
      "text/plain": [
       "array([[1],\n",
       "       [1],\n",
       "       [1],\n",
       "       [0],\n",
       "       [0]])"
      ]
     },
     "execution_count": 33,
     "metadata": {},
     "output_type": "execute_result"
    }
   ],
   "source": [
    "pred = model.predict(X_test)\n",
    "binary_pred = (pred > 0.5).astype(int)\n",
    "binary_pred[10:15]"
   ]
  },
  {
   "cell_type": "code",
   "execution_count": 34,
   "id": "ce481639",
   "metadata": {},
   "outputs": [
    {
     "name": "stdout",
     "output_type": "stream",
     "text": [
      "              precision    recall  f1-score   support\n",
      "\n",
      "           0       0.87      0.98      0.92      1607\n",
      "           1       0.80      0.40      0.53       393\n",
      "\n",
      "    accuracy                           0.86      2000\n",
      "   macro avg       0.83      0.69      0.72      2000\n",
      "weighted avg       0.85      0.86      0.84      2000\n",
      "\n"
     ]
    }
   ],
   "source": [
    "from sklearn.metrics import classification_report\n",
    "print(classification_report(y_test,binary_pred))"
   ]
  },
  {
   "cell_type": "code",
   "execution_count": 35,
   "id": "46560f29",
   "metadata": {},
   "outputs": [
    {
     "data": {
      "text/plain": [
       "0    7963\n",
       "1    2037\n",
       "Name: Exited, dtype: int64"
      ]
     },
     "execution_count": 35,
     "metadata": {},
     "output_type": "execute_result"
    }
   ],
   "source": [
    "bank_df.Exited.value_counts()"
   ]
  },
  {
   "cell_type": "markdown",
   "id": "7dffa85b",
   "metadata": {},
   "source": [
    "# Random Forest Classifier"
   ]
  },
  {
   "cell_type": "code",
   "execution_count": 36,
   "id": "5386951c",
   "metadata": {},
   "outputs": [],
   "source": [
    "from sklearn.ensemble import RandomForestClassifier\n",
    "rfc = RandomForestClassifier()\n",
    "rfc.fit(X_train,y_train)\n",
    "y_pred_train = rfc.predict(X_train)\n",
    "y_pred_test = rfc.predict(X_test)"
   ]
  },
  {
   "cell_type": "code",
   "execution_count": 37,
   "id": "396c7860",
   "metadata": {},
   "outputs": [
    {
     "name": "stdout",
     "output_type": "stream",
     "text": [
      "training score: 1.0\n",
      "test score: 0.87\n"
     ]
    }
   ],
   "source": [
    "from sklearn.metrics import accuracy_score\n",
    "ac1 = accuracy_score(y_train,y_pred_train)\n",
    "print(\"training score:\", ac1.round(2))\n",
    "ac2 = accuracy_score(y_test,y_pred_test)\n",
    "print(\"test score:\", ac2.round(2))"
   ]
  },
  {
   "cell_type": "code",
   "execution_count": 38,
   "id": "0bdbf4e3",
   "metadata": {},
   "outputs": [
    {
     "name": "stdout",
     "output_type": "stream",
     "text": [
      "True values: [1 1 1 0 0]\n",
      "Predicted values: [1 1 1 0 0]\n"
     ]
    }
   ],
   "source": [
    "print(\"True values:\", y_test[10:15].values)\n",
    "print(\"Predicted values:\", y_pred_test[10:15])"
   ]
  },
  {
   "cell_type": "markdown",
   "id": "7e03d2e1",
   "metadata": {},
   "source": [
    "# Support Vector Machine"
   ]
  },
  {
   "cell_type": "code",
   "execution_count": 39,
   "id": "90bea5fb",
   "metadata": {},
   "outputs": [],
   "source": [
    "from sklearn.svm import SVC\n",
    "svc = SVC()\n",
    "svc.fit(X_train,y_train)\n",
    "\n",
    "y_pred_test = svc.predict(X_test)\n",
    "y_pred_train = svc.predict(X_train)\n"
   ]
  },
  {
   "cell_type": "code",
   "execution_count": 40,
   "id": "8faee24d",
   "metadata": {},
   "outputs": [
    {
     "name": "stdout",
     "output_type": "stream",
     "text": [
      "              precision    recall  f1-score   support\n",
      "\n",
      "           0       0.84      0.99      0.91      1607\n",
      "           1       0.85      0.25      0.39       393\n",
      "\n",
      "    accuracy                           0.84      2000\n",
      "   macro avg       0.85      0.62      0.65      2000\n",
      "weighted avg       0.85      0.84      0.81      2000\n",
      "\n",
      "[[1590   17]\n",
      " [ 294   99]]\n",
      "Accuracy: 0.8445\n",
      "Precision: 0.853448275862069\n",
      "Recall: 0.25190839694656486\n"
     ]
    }
   ],
   "source": [
    "# summarize the fit of the model\n",
    "from sklearn import metrics\n",
    "from sklearn.metrics import accuracy_score,accuracy_score,confusion_matrix\n",
    "print(metrics.classification_report(y_test, y_pred_test))\n",
    "print(metrics.confusion_matrix(y_test, y_pred_test))\n",
    "\n",
    "print(\"Accuracy:\",metrics.accuracy_score(y_test, y_pred_test))\n",
    "print(\"Precision:\",metrics.precision_score(y_test, y_pred_test))\n",
    "print(\"Recall:\",metrics.recall_score(y_test, y_pred_test))"
   ]
  },
  {
   "cell_type": "markdown",
   "id": "d2c47f6a",
   "metadata": {},
   "source": [
    "# Logistic Regression"
   ]
  },
  {
   "cell_type": "code",
   "execution_count": 41,
   "id": "e0948419",
   "metadata": {},
   "outputs": [
    {
     "name": "stdout",
     "output_type": "stream",
     "text": [
      "              precision    recall  f1-score   support\n",
      "\n",
      "           0       0.83      0.96      0.89      1607\n",
      "           1       0.57      0.19      0.29       393\n",
      "\n",
      "    accuracy                           0.81      2000\n",
      "   macro avg       0.70      0.58      0.59      2000\n",
      "weighted avg       0.78      0.81      0.77      2000\n",
      "\n",
      "[[1550   57]\n",
      " [ 318   75]]\n",
      "Accuracy: 0.8125\n",
      "Precision: 0.5681818181818182\n",
      "Recall: 0.19083969465648856\n"
     ]
    }
   ],
   "source": [
    "from sklearn.linear_model import LogisticRegression\n",
    "logreg = LogisticRegression()\n",
    "logreg.fit(X_train,y_train)\n",
    "\n",
    "#prediction\n",
    "y_pred_test = logreg.predict(X_test)\n",
    "\n",
    "print(metrics.classification_report(y_test, y_pred_test))\n",
    "print(metrics.confusion_matrix(y_test,y_pred_test))\n",
    "\n",
    "print(\"Accuracy:\",metrics.accuracy_score(y_test, y_pred_test))\n",
    "print(\"Precision:\",metrics.precision_score(y_test, y_pred_test))\n",
    "print(\"Recall:\",metrics.recall_score(y_test, y_pred_test))"
   ]
  },
  {
   "cell_type": "markdown",
   "id": "76b8fca5",
   "metadata": {},
   "source": [
    "# Save the model"
   ]
  },
  {
   "cell_type": "code",
   "execution_count": 42,
   "id": "60403764",
   "metadata": {},
   "outputs": [
    {
     "name": "stderr",
     "output_type": "stream",
     "text": [
      "C:\\Users\\RAM BABU\\AppData\\Roaming\\Python\\Python39\\site-packages\\keras\\src\\engine\\training.py:3079: UserWarning: You are saving your model as an HDF5 file via `model.save()`. This file format is considered legacy. We recommend using instead the native Keras format, e.g. `model.save('my_model.keras')`.\n",
      "  saving_api.save_model(\n"
     ]
    }
   ],
   "source": [
    "from tensorflow.keras.models import load_model\n",
    "\n",
    "model.save('churn_model.h5')"
   ]
  },
  {
   "cell_type": "code",
   "execution_count": 43,
   "id": "90ab7ce2",
   "metadata": {},
   "outputs": [],
   "source": [
    "model = load_model('churn_model.h5')"
   ]
  },
  {
   "cell_type": "code",
   "execution_count": null,
   "id": "f4a34256",
   "metadata": {},
   "outputs": [],
   "source": []
  },
  {
   "cell_type": "code",
   "execution_count": null,
   "id": "6ff3d909",
   "metadata": {},
   "outputs": [],
   "source": []
  },
  {
   "cell_type": "code",
   "execution_count": null,
   "id": "1725dcd3",
   "metadata": {},
   "outputs": [],
   "source": []
  },
  {
   "cell_type": "code",
   "execution_count": null,
   "id": "ac4c36c8",
   "metadata": {},
   "outputs": [],
   "source": []
  }
 ],
 "metadata": {
  "kernelspec": {
   "display_name": "Python 3 (ipykernel)",
   "language": "python",
   "name": "python3"
  },
  "language_info": {
   "codemirror_mode": {
    "name": "ipython",
    "version": 3
   },
   "file_extension": ".py",
   "mimetype": "text/x-python",
   "name": "python",
   "nbconvert_exporter": "python",
   "pygments_lexer": "ipython3",
   "version": "3.9.13"
  }
 },
 "nbformat": 4,
 "nbformat_minor": 5
}
